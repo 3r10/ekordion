{
 "cells": [
  {
   "cell_type": "markdown",
   "metadata": {},
   "source": [
    "# Imports\n",
    "\n",
    "For control & table generation"
   ]
  },
  {
   "cell_type": "code",
   "execution_count": 1,
   "metadata": {},
   "outputs": [],
   "source": [
    "from ekordion.effects import *\n",
    "from ekordion.generate import *\n",
    "from ekordion.control import *\n",
    "from ekordion.io import *"
   ]
  },
  {
   "cell_type": "markdown",
   "metadata": {},
   "source": [
    "# Control via Bluetooth"
   ]
  },
  {
   "cell_type": "code",
   "execution_count": 2,
   "metadata": {},
   "outputs": [
    {
     "name": "stdout",
     "output_type": "stream",
     "text": [
      "Connected\n"
     ]
    }
   ],
   "source": [
    "bt_connect('a8:42:e3:4b:09:de')\n",
    "# bt_connect('a8:42:e3:55:de:5a')"
   ]
  },
  {
   "cell_type": "code",
   "execution_count": null,
   "metadata": {},
   "outputs": [],
   "source": [
    "table = final_quantization(generate_additive([1],generate_sawtooth))\n",
    "bt_send_custom_table(table)"
   ]
  },
  {
   "cell_type": "code",
   "execution_count": 22,
   "metadata": {},
   "outputs": [],
   "source": [
    "flute_pre = generate_sum([generate_sawtooth(1),generate_pwm(2,0.5)],[0.5,1])\n",
    "a,b = design_low_shelf(8000,120)\n",
    "flute = apply_iir_filter(flute_pre,a,b)\n",
    "table = final_quantization(flute)\n",
    "bt_send_custom_table(table)"
   ]
  },
  {
   "cell_type": "code",
   "execution_count": null,
   "metadata": {},
   "outputs": [],
   "source": [
    "table = apply_overdrive(generate_additive([1,0,0,1,1]),4)\n",
    "bt_send_custom_table(final_quantization(table))"
   ]
  },
  {
   "cell_type": "code",
   "execution_count": 23,
   "metadata": {},
   "outputs": [],
   "source": [
    "table = apply_quantizer(generate_additive([1,1,0,-1,3,1,0,-1]),3)\n",
    "bt_send_custom_table(final_quantization(table))"
   ]
  },
  {
   "cell_type": "code",
   "execution_count": null,
   "metadata": {},
   "outputs": [],
   "source": [
    "bt_disconnect()"
   ]
  },
  {
   "cell_type": "markdown",
   "metadata": {},
   "source": [
    "# Header file generation"
   ]
  },
  {
   "cell_type": "code",
   "execution_count": null,
   "metadata": {},
   "outputs": [],
   "source": [
    "sine = generate_sine(1)\n",
    "sawtooth = generate_sawtooth(1)\n",
    "pwm02 = generate_pwm(1,0.2)\n",
    "additive1 = generate_additive([1.0, 0.8, 0.7, 0.5, 0.0, 0.0, 0.0, 0.5])\n",
    "additive2 = generate_additive([1.0, 0.0, 0.7, 0.0, 0.5, 0.0, 0.5])\n",
    "flute_pre = generate_sum([generate_sawtooth(1),generate_pwm(2,0.5)],[0.5,1])\n",
    "a,b = design_low_shelf(8000,120)\n",
    "flute = apply_iir_filter(flute_pre,a,b)\n",
    "\n",
    "tables = [\n",
    "    ('Custom',final_quantization(apply_overdrive(additive2,4))),\n",
    "    #\n",
    "    (\"Sine\",final_quantization(sine)),\n",
    "    (\"Sine o4\",final_quantization(apply_overdrive(sine,4))),\n",
    "    (\"Sine o8\",final_quantization(apply_overdrive(sine,8))),\n",
    "    #\n",
    "    (\"Square\",final_quantization(generate_pwm(1))),\n",
    "    (\"PWM 20\",final_quantization(generate_pwm(1,0.2))),\n",
    "    #\n",
    "    (\"Sawtooth\",final_quantization(sawtooth)),\n",
    "    (\"Sawtooth o4\",final_quantization(apply_overdrive(sawtooth,4))),\n",
    "    (\"Sawtooth o8\",final_quantization(apply_overdrive(sawtooth,8))),\n",
    "    (\"Additive1\",final_quantization(additive1)),\n",
    "    (\"Additive1 o4\",final_quantization(apply_overdrive(additive1,4))),\n",
    "    (\"Additive1 o8\",final_quantization(apply_overdrive(additive1,8))),\n",
    "    (\"Additive2\",final_quantization(additive2)),\n",
    "    (\"Additive2 o4\",final_quantization(apply_overdrive(additive2,4))),\n",
    "    (\"Additive2 o8\",final_quantization(apply_overdrive(additive2,8))),\n",
    "    (\"Flute\",final_quantization(flute))\n",
    "]\n",
    "write_tables_for_esp32_synthesizer(tables)\n",
    "print_tables_for_android_control(tables)\n"
   ]
  }
 ],
 "metadata": {
  "kernelspec": {
   "display_name": "Python 3",
   "language": "python",
   "name": "python3"
  },
  "language_info": {
   "codemirror_mode": {
    "name": "ipython",
    "version": 3
   },
   "file_extension": ".py",
   "mimetype": "text/x-python",
   "name": "python",
   "nbconvert_exporter": "python",
   "pygments_lexer": "ipython3",
   "version": "3.10.12"
  }
 },
 "nbformat": 4,
 "nbformat_minor": 2
}
