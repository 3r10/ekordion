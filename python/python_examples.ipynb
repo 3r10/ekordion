{
 "cells": [
  {
   "cell_type": "code",
   "execution_count": null,
   "metadata": {},
   "outputs": [],
   "source": [
    "from ekordion.effects import *\n",
    "from ekordion.generate import *\n",
    "from ekordion.control import *\n",
    "from ekordion.io import *\n",
    "\n",
    "# bt_connect('a8:42:e3:4b:09:de')\n",
    "bt_connect('a8:42:e3:55:de:5a')"
   ]
  },
  {
   "cell_type": "code",
   "execution_count": null,
   "metadata": {},
   "outputs": [],
   "source": [
    "table = final_quantization(generate_additive([1],generate_sawtooth))\n",
    "bt_send_custom_table(table)"
   ]
  },
  {
   "cell_type": "code",
   "execution_count": null,
   "metadata": {},
   "outputs": [],
   "source": [
    "flute_pre = generate_sum([generate_sawtooth(1),generate_pwm(2,0.5)],[0.5,1])\n",
    "a,b = design_low_shelf(8000,120)\n",
    "flute = apply_iir_filter(flute_pre,a,b)\n",
    "table = final_quantization(flute)\n",
    "bt_send_custom_table(table)"
   ]
  },
  {
   "cell_type": "code",
   "execution_count": null,
   "metadata": {},
   "outputs": [],
   "source": [
    "table = apply_overdrive(generate_additive([1,0,0,1,1]),4)\n",
    "bt_send_custom_table(final_quantization(table))"
   ]
  },
  {
   "cell_type": "code",
   "execution_count": null,
   "metadata": {},
   "outputs": [],
   "source": [
    "bt_disconnect()"
   ]
  }
 ],
 "metadata": {
  "kernelspec": {
   "display_name": "Python 3",
   "language": "python",
   "name": "python3"
  },
  "language_info": {
   "codemirror_mode": {
    "name": "ipython",
    "version": 3
   },
   "file_extension": ".py",
   "mimetype": "text/x-python",
   "name": "python",
   "nbconvert_exporter": "python",
   "pygments_lexer": "ipython3",
   "version": "3.10.12"
  }
 },
 "nbformat": 4,
 "nbformat_minor": 2
}
